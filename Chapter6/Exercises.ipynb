{
 "cells": [
  {
   "cell_type": "code",
   "execution_count": 1,
   "metadata": {},
   "outputs": [
    {
     "data": {
      "text/plain": [
       "(tensor([[ 7.0000,  0.2700,  0.3600,  ...,  3.0000,  0.4500,  8.8000],\n",
       "         [ 6.3000,  0.3000,  0.3400,  ...,  3.3000,  0.4900,  9.5000],\n",
       "         [ 8.1000,  0.2800,  0.4000,  ...,  3.2600,  0.4400, 10.1000],\n",
       "         ...,\n",
       "         [ 6.5000,  0.2400,  0.1900,  ...,  2.9900,  0.4600,  9.4000],\n",
       "         [ 5.5000,  0.2900,  0.3000,  ...,  3.3400,  0.3800, 12.8000],\n",
       "         [ 6.0000,  0.2100,  0.3800,  ...,  3.2600,  0.3200, 11.8000]]),\n",
       " torch.Size([4898, 11]),\n",
       " tensor([6., 6., 6.,  ..., 6., 7., 6.]),\n",
       " torch.Size([4898]))"
      ]
     },
     "execution_count": 1,
     "metadata": {},
     "output_type": "execute_result"
    }
   ],
   "source": [
    "%matplotlib inline\n",
    "import csv\n",
    "import numpy as np\n",
    "import torch\n",
    "import torch.nn as nn\n",
    "import torch.optim as optim\n",
    "from matplotlib import pyplot as plt\n",
    "\n",
    "wine_path = '../data/ch4/tabular-wine/winequality-white.csv'\n",
    "wineq_numpy = np.loadtxt(wine_path, dtype=np.float32, delimiter=';', skiprows=1)\n",
    "wineq_numpy\n",
    "\n",
    "col_list = next(csv.reader(open(wine_path), delimiter=';'))\n",
    "wineq_numpy.shape, col_list\n",
    "\n",
    "wineq = torch.from_numpy(wineq_numpy)\n",
    "wine_infos = wineq[:, :-1]\n",
    "wine_quality = wineq[:, -1]\n",
    "\n",
    "wine_infos, wine_infos.shape, wine_quality, wine_quality.shape"
   ]
  },
  {
   "cell_type": "code",
   "execution_count": 2,
   "metadata": {
    "scrolled": true
   },
   "outputs": [
    {
     "data": {
      "text/plain": [
       "(torch.Size([3919, 11]),\n",
       " torch.Size([3919]),\n",
       " torch.Size([979, 11]),\n",
       " torch.Size([979]))"
      ]
     },
     "execution_count": 2,
     "metadata": {},
     "output_type": "execute_result"
    }
   ],
   "source": [
    "n_samples = wineq.shape[0]\n",
    "n_val = int(0.2 * n_samples)\n",
    "\n",
    "shuffled_indices = torch.randperm(n_samples)\n",
    "\n",
    "train_wine_infos = wine_infos[:-n_val]\n",
    "train_wine_quality = wine_quality[:-n_val]\n",
    "val_wine_infos = wine_infos[-n_val:]\n",
    "val_wine_quality = wine_quality[-n_val:]\n",
    "\n",
    "train_wine_infos.shape, train_wine_quality.shape, val_wine_infos.shape, val_wine_quality.shape"
   ]
  },
  {
   "cell_type": "code",
   "execution_count": 3,
   "metadata": {},
   "outputs": [],
   "source": [
    "class WineModel(nn.Module):\n",
    "    def __init__(self):\n",
    "        super().__init__()\n",
    "        \n",
    "        self.hidden_linear = nn.Linear(11, 20)\n",
    "        self.output_linear  = nn.Linear(20, 1)\n",
    "        \n",
    "    def forward(self, input):\n",
    "        hidden_t = self.hidden_linear(input)\n",
    "        activated_t = torch.tanh(hidden_t)\n",
    "        output_t = self.output_linear(activated_t)\n",
    "        \n",
    "        return output_t"
   ]
  },
  {
   "cell_type": "code",
   "execution_count": 4,
   "metadata": {},
   "outputs": [],
   "source": [
    "def train(n_epochs, optimizer, model, loss_fn, train_wine_infos, train_wine_quality, val_wine_infos, val_wine_quality):\n",
    "    for epoch in range(1, n_epochs + 1):\n",
    "        train_wine_pred = model(train_wine_infos)\n",
    "        train_loss = loss_fn(train_wine_pred, train_wine_quality)\n",
    "        \n",
    "        with torch.no_grad():\n",
    "            val_wine_pred = model(val_wine_infos)\n",
    "            val_loss = loss_fn(val_wine_pred, val_wine_quality)\n",
    "        \n",
    "        optimizer.zero_grad()\n",
    "        train_loss.backward()\n",
    "        optimizer.step()\n",
    "        \n",
    "        if epoch == 1 or epoch % 500 == 0:\n",
    "            print('Epoch {}, Training loss {}, Validation loss {}'.format(\n",
    "                epoch, train_loss, val_loss))\n",
    "            print('\\tTrain {}'.format(train_wine_pred.shape))\n",
    "            print('\\tVal   {}'.format(val_wine_pred.shape))"
   ]
  },
  {
   "cell_type": "code",
   "execution_count": 5,
   "metadata": {},
   "outputs": [
    {
     "name": "stderr",
     "output_type": "stream",
     "text": [
      "/home/ivan/anaconda3/lib/python3.7/site-packages/torch/nn/modules/loss.py:431: UserWarning: Using a target size (torch.Size([3919])) that is different to the input size (torch.Size([3919, 1])). This will likely lead to incorrect results due to broadcasting. Please ensure they have the same size.\n",
      "  return F.mse_loss(input, target, reduction=self.reduction)\n",
      "/home/ivan/anaconda3/lib/python3.7/site-packages/torch/nn/modules/loss.py:431: UserWarning: Using a target size (torch.Size([979])) that is different to the input size (torch.Size([979, 1])). This will likely lead to incorrect results due to broadcasting. Please ensure they have the same size.\n",
      "  return F.mse_loss(input, target, reduction=self.reduction)\n"
     ]
    },
    {
     "name": "stdout",
     "output_type": "stream",
     "text": [
      "Epoch 1, Training loss 40.24391555786133, Validation loss 39.99428939819336\n",
      "\tTrain torch.Size([3919, 1])\n",
      "\tVal   torch.Size([979, 1])\n",
      "Epoch 500, Training loss 26.296884536743164, Validation loss 25.917959213256836\n",
      "\tTrain torch.Size([3919, 1])\n",
      "\tVal   torch.Size([979, 1])\n",
      "Epoch 1000, Training loss 17.55152702331543, Validation loss 17.218263626098633\n",
      "\tTrain torch.Size([3919, 1])\n",
      "\tVal   torch.Size([979, 1])\n",
      "Epoch 1500, Training loss 11.865754127502441, Validation loss 11.509507179260254\n",
      "\tTrain torch.Size([3919, 1])\n",
      "\tVal   torch.Size([979, 1])\n",
      "Epoch 2000, Training loss 8.059080123901367, Validation loss 7.76265287399292\n",
      "\tTrain torch.Size([3919, 1])\n",
      "\tVal   torch.Size([979, 1])\n",
      "Epoch 2500, Training loss 5.589808940887451, Validation loss 5.297574996948242\n",
      "\tTrain torch.Size([3919, 1])\n",
      "\tVal   torch.Size([979, 1])\n",
      "Epoch 3000, Training loss 3.9648818969726562, Validation loss 3.679269790649414\n",
      "\tTrain torch.Size([3919, 1])\n",
      "\tVal   torch.Size([979, 1])\n",
      "Epoch 3500, Training loss 2.894589424133301, Validation loss 2.617072105407715\n",
      "\tTrain torch.Size([3919, 1])\n",
      "\tVal   torch.Size([979, 1])\n",
      "Epoch 4000, Training loss 2.1900641918182373, Validation loss 1.920326590538025\n",
      "\tTrain torch.Size([3919, 1])\n",
      "\tVal   torch.Size([979, 1])\n",
      "Epoch 4500, Training loss 1.7340540885925293, Validation loss 1.463080644607544\n",
      "\tTrain torch.Size([3919, 1])\n",
      "\tVal   torch.Size([979, 1])\n",
      "Epoch 5000, Training loss 1.4231196641921997, Validation loss 1.1635191440582275\n",
      "\tTrain torch.Size([3919, 1])\n",
      "\tVal   torch.Size([979, 1])\n",
      "Spend time 634.1657693386078s\n"
     ]
    }
   ],
   "source": [
    "wine_model = WineModel()\n",
    "learning_rate = 1e-5\n",
    "optimizer = optim.SGD(wine_model.parameters(), lr=learning_rate)\n",
    "\n",
    "import time\n",
    "tic = time.time()\n",
    "\n",
    "train(\n",
    "    n_epochs=5000,\n",
    "    optimizer=optimizer,\n",
    "    model=wine_model,\n",
    "    loss_fn=nn.MSELoss(),\n",
    "    train_wine_infos=train_wine_infos,\n",
    "    train_wine_quality=train_wine_quality,\n",
    "    val_wine_infos=val_wine_infos,\n",
    "    val_wine_quality=val_wine_quality)\n",
    "\n",
    "toc = time.time()\n",
    "print('Spend time ' + str(toc - tic) + 's')"
   ]
  },
  {
   "cell_type": "code",
   "execution_count": null,
   "metadata": {},
   "outputs": [],
   "source": []
  }
 ],
 "metadata": {
  "kernelspec": {
   "display_name": "Python 3",
   "language": "python",
   "name": "python3"
  },
  "language_info": {
   "codemirror_mode": {
    "name": "ipython",
    "version": 3
   },
   "file_extension": ".py",
   "mimetype": "text/x-python",
   "name": "python",
   "nbconvert_exporter": "python",
   "pygments_lexer": "ipython3",
   "version": "3.7.4"
  },
  "latex_envs": {
   "LaTeX_envs_menu_present": true,
   "autoclose": false,
   "autocomplete": true,
   "bibliofile": "biblio.bib",
   "cite_by": "apalike",
   "current_citInitial": 1,
   "eqLabelWithNumbers": true,
   "eqNumInitial": 1,
   "hotkeys": {
    "equation": "Ctrl-E",
    "itemize": "Ctrl-I"
   },
   "labels_anchors": false,
   "latex_user_defs": false,
   "report_style_numbering": false,
   "user_envs_cfg": false
  }
 },
 "nbformat": 4,
 "nbformat_minor": 2
}
