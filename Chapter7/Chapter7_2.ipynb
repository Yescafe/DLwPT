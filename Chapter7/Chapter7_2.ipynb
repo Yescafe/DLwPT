{
 "cells": [
  {
   "cell_type": "code",
   "execution_count": 1,
   "metadata": {},
   "outputs": [
    {
     "data": {
      "text/plain": [
       "<torch._C.Generator at 0x7f5be46f8db0>"
      ]
     },
     "execution_count": 1,
     "metadata": {},
     "output_type": "execute_result"
    }
   ],
   "source": [
    "%matplotlib inline\n",
    "from matplotlib import pyplot as plt\n",
    "import numpy as np\n",
    "import torch\n",
    "\n",
    "torch.manual_seed(123)"
   ]
  },
  {
   "cell_type": "code",
   "execution_count": 2,
   "metadata": {},
   "outputs": [],
   "source": [
    "class_names = ['airplane','automobile','bird','cat','deer',\n",
    "               'dog','frog','horse','ship','truck']"
   ]
  },
  {
   "cell_type": "code",
   "execution_count": 3,
   "metadata": {},
   "outputs": [],
   "source": [
    "from torchvision import datasets, transforms\n",
    "data_path = '../data/ch7'\n",
    "cifar10 = datasets.CIFAR10(data_path, train=True, download=False,\n",
    "                          transform=transforms.Compose([\n",
    "                              transforms.ToTensor(),\n",
    "                              transforms.Normalize((0.4915, 0.4823, 0.4468),\n",
    "                                                   (0.2470, 0.2435, 0.2616))\n",
    "                          ]))"
   ]
  },
  {
   "cell_type": "code",
   "execution_count": 4,
   "metadata": {},
   "outputs": [],
   "source": [
    "cifar10_val = datasets.CIFAR10(data_path, train=False, download=False,\n",
    "                          transform=transforms.Compose([\n",
    "                              transforms.ToTensor(),\n",
    "                              transforms.Normalize((0.4915, 0.4823, 0.4468),\n",
    "                                                   (0.2470, 0.2435, 0.2616))\n",
    "                          ]))"
   ]
  },
  {
   "cell_type": "code",
   "execution_count": 5,
   "metadata": {},
   "outputs": [],
   "source": [
    "label_map = {0: 0, 2: 1}\n",
    "class_names = ['airplane', 'bird']\n",
    "cifar2 = [(img, label_map[label]) for img, label in cifar10 if label in [0, 2]]\n",
    "cifar2_val = [(img, label_map[label]) for img, label in cifar10_val if label in [0, 2]]"
   ]
  },
  {
   "cell_type": "code",
   "execution_count": 32,
   "metadata": {},
   "outputs": [],
   "source": [
    "import torch.nn as nn\n",
    "\n",
    "n_out = 2\n",
    "\n",
    "model = nn.Sequential(\n",
    "            nn.Linear(\n",
    "                3072,\n",
    "                512,\n",
    "            ),\n",
    "            nn.Tanh(),\n",
    "            nn.Linear(\n",
    "                512,\n",
    "                n_out,\n",
    "            )\n",
    "        )"
   ]
  },
  {
   "cell_type": "code",
   "execution_count": 7,
   "metadata": {},
   "outputs": [],
   "source": [
    "def softmax(x):\n",
    "    return torch.exp(x) / torch.exp(x).sum()"
   ]
  },
  {
   "cell_type": "markdown",
   "metadata": {},
   "source": [
    "$\n",
    "softmax(x_1, x_2) = (\\frac{e^{x_1}}{e^{x_1} + e^{x_2}},\\frac{e^{x_2}}{e^{x_1} + e^{x_2}}) \\\\\n",
    "softmax(x_1, \\dots, x_n) = (\\frac{e^{x_1}}{e^{x_1} + \\dots + e^{x_n}}, \\dots, \\frac{e^{x_n}}{e^{x_1} + \\dots + e^{x_n}})\n",
    "$"
   ]
  },
  {
   "cell_type": "code",
   "execution_count": 8,
   "metadata": {},
   "outputs": [
    {
     "data": {
      "text/plain": [
       "tensor([0.0900, 0.2447, 0.6652])"
      ]
     },
     "execution_count": 8,
     "metadata": {},
     "output_type": "execute_result"
    }
   ],
   "source": [
    "x = torch.tensor([1., 2., 3.])\n",
    "softmax(x)"
   ]
  },
  {
   "cell_type": "code",
   "execution_count": 9,
   "metadata": {},
   "outputs": [
    {
     "data": {
      "text/plain": [
       "tensor(1.)"
      ]
     },
     "execution_count": 9,
     "metadata": {},
     "output_type": "execute_result"
    }
   ],
   "source": [
    "softmax(x).sum()"
   ]
  },
  {
   "cell_type": "markdown",
   "metadata": {},
   "source": [
    "$\n",
    "\\sum softmax(x)=\\sum\\limits_{i=0}^{N}\\frac{e^i}{\\sum_{j=0}^{N} e^j}=1\n",
    "$"
   ]
  },
  {
   "cell_type": "code",
   "execution_count": 10,
   "metadata": {},
   "outputs": [
    {
     "data": {
      "text/plain": [
       "tensor([[0.0900, 0.2447, 0.6652],\n",
       "        [0.0900, 0.2447, 0.6652]])"
      ]
     },
     "execution_count": 10,
     "metadata": {},
     "output_type": "execute_result"
    }
   ],
   "source": [
    "softmax = nn.Softmax(dim=1)\n",
    "\n",
    "x = torch.tensor([[1., 2., 3.],\n",
    "                  [1., 2., 3.]])\n",
    "softmax(x)"
   ]
  },
  {
   "cell_type": "code",
   "execution_count": 11,
   "metadata": {},
   "outputs": [],
   "source": [
    "model = nn.Sequential(\n",
    "            nn.Linear(3072, 512),\n",
    "            nn.Tanh(),\n",
    "            nn.Linear(512, 2),\n",
    "            nn.Softmax(dim=1))"
   ]
  },
  {
   "cell_type": "code",
   "execution_count": 12,
   "metadata": {},
   "outputs": [
    {
     "name": "stderr",
     "output_type": "stream",
     "text": [
      "Clipping input data to the valid range for imshow with RGB data ([0..1] for floats or [0..255] for integers).\n"
     ]
    },
    {
     "data": {
      "image/png": "[encoded data removed]",
      "text/plain": [
       "<Figure size 432x288 with 1 Axes>"
      ]
     },
     "metadata": {
      "needs_background": "light"
     },
     "output_type": "display_data"
    }
   ],
   "source": [
    "img, _ = cifar2[0]\n",
    "\n",
    "plt.imshow(img.permute(1, 2, 0))\n",
    "plt.show()"
   ]
  },
  {
   "cell_type": "code",
   "execution_count": 13,
   "metadata": {},
   "outputs": [],
   "source": [
    "img_batch = img.view(-1).unsqueeze(0)"
   ]
  },
  {
   "cell_type": "code",
   "execution_count": 14,
   "metadata": {},
   "outputs": [
    {
     "data": {
      "text/plain": [
       "tensor([[0.4784, 0.5216]], grad_fn=<SoftmaxBackward>)"
      ]
     },
     "execution_count": 14,
     "metadata": {},
     "output_type": "execute_result"
    }
   ],
   "source": [
    "out = model(img_batch)\n",
    "out"
   ]
  },
  {
   "cell_type": "code",
   "execution_count": 15,
   "metadata": {},
   "outputs": [
    {
     "data": {
      "text/plain": [
       "tensor([1])"
      ]
     },
     "execution_count": 15,
     "metadata": {},
     "output_type": "execute_result"
    }
   ],
   "source": [
    "_, index = torch.max(out, dim=1)\n",
    "index"
   ]
  },
  {
   "cell_type": "code",
   "execution_count": 16,
   "metadata": {},
   "outputs": [],
   "source": [
    "model = nn.Sequential(\n",
    "            nn.Linear(3072, 512),\n",
    "            nn.Tanh(),\n",
    "            nn.Linear(512, 2),\n",
    "            nn.LogSoftmax(dim=1),\n",
    "        )"
   ]
  },
  {
   "cell_type": "code",
   "execution_count": 17,
   "metadata": {},
   "outputs": [],
   "source": [
    "loss = nn.NLLLoss()"
   ]
  },
  {
   "cell_type": "code",
   "execution_count": 18,
   "metadata": {},
   "outputs": [
    {
     "data": {
      "text/plain": [
       "tensor(0.5077, grad_fn=<NllLossBackward>)"
      ]
     },
     "execution_count": 18,
     "metadata": {},
     "output_type": "execute_result"
    }
   ],
   "source": [
    "img, label = cifar2[0]\n",
    "\n",
    "out = model(img.view(-1).unsqueeze(0))\n",
    "\n",
    "loss(out, torch.tensor([label]))"
   ]
  },
  {
   "cell_type": "code",
   "execution_count": 24,
   "metadata": {},
   "outputs": [
    {
     "data": {
      "text/plain": [
       "''"
      ]
     },
     "execution_count": 24,
     "metadata": {},
     "output_type": "execute_result"
    }
   ],
   "source": [
    "'''\n",
    "import torch.optim as optim\n",
    "import time\n",
    "\n",
    "tic = time.time()\n",
    "\n",
    "model = nn.Sequential(\n",
    "            nn.Linear(3072, 512),\n",
    "            nn.Tanh(),\n",
    "            nn.Linear(512, 2),\n",
    "            nn.LogSoftmax(dim=1))\n",
    "\n",
    "learning_rate = 1e-2\n",
    "\n",
    "optimizer = optim.SGD(model.parameters(), lr=learning_rate)\n",
    "\n",
    "loss_fn = nn.NLLLoss()\n",
    "\n",
    "n_epochs = 100\n",
    "\n",
    "for epoch in range(n_epochs):\n",
    "    for img, label in cifar2:\n",
    "        out = model(img.view(-1).unsqueeze(0))\n",
    "        loss = loss_fn(out, torch.tensor([label]))\n",
    "        \n",
    "        optimizer.zero_grad()\n",
    "        loss.backward()\n",
    "        optimizer.step()\n",
    "    \n",
    "    print('Epoch: {}, Loss: {}'.format(epoch, float(loss)))\n",
    "    \n",
    "toc = time.time()\n",
    "print('Spend time ' + str(toc - tic) + 's')\n",
    "'''\n",
    "''"
   ]
  },
  {
   "cell_type": "code",
   "execution_count": 27,
   "metadata": {},
   "outputs": [
    {
     "name": "stdout",
     "output_type": "stream",
     "text": [
      "Epoch: 1, Loss: 0.5669606924057007\n",
      "Epoch: 2, Loss: 0.3292829394340515\n",
      "Epoch: 3, Loss: 0.49530547857284546\n",
      "Epoch: 4, Loss: 0.35676783323287964\n",
      "Epoch: 5, Loss: 0.19398456811904907\n",
      "Epoch: 6, Loss: 0.46490418910980225\n",
      "Epoch: 7, Loss: 0.45544928312301636\n",
      "Epoch: 8, Loss: 0.46037939190864563\n",
      "Epoch: 9, Loss: 0.24305753409862518\n",
      "Epoch: 10, Loss: 0.43668925762176514\n",
      "Epoch: 11, Loss: 0.349956214427948\n",
      "Epoch: 12, Loss: 0.4603939354419708\n",
      "Epoch: 13, Loss: 0.39098405838012695\n",
      "Epoch: 14, Loss: 0.4621390104293823\n",
      "Epoch: 15, Loss: 0.22492431104183197\n",
      "Epoch: 16, Loss: 0.5685446858406067\n",
      "Epoch: 17, Loss: 0.5020055770874023\n",
      "Epoch: 18, Loss: 0.2851449251174927\n",
      "Epoch: 19, Loss: 0.4238271117210388\n",
      "Epoch: 20, Loss: 0.4577503204345703\n",
      "Epoch: 21, Loss: 0.41526052355766296\n",
      "Epoch: 22, Loss: 0.29702848196029663\n",
      "Epoch: 23, Loss: 0.22636890411376953\n",
      "Epoch: 24, Loss: 0.04349592700600624\n",
      "Epoch: 25, Loss: 0.3086414635181427\n",
      "Epoch: 26, Loss: 0.33681151270866394\n",
      "Epoch: 27, Loss: 0.26489609479904175\n",
      "Epoch: 28, Loss: 0.08091676235198975\n",
      "Epoch: 29, Loss: 0.1901094764471054\n",
      "Epoch: 30, Loss: 0.11398032307624817\n",
      "Epoch: 31, Loss: 0.1395701766014099\n",
      "Epoch: 32, Loss: 0.2436112016439438\n",
      "Epoch: 33, Loss: 0.16624850034713745\n",
      "Epoch: 34, Loss: 0.2901706397533417\n",
      "Epoch: 35, Loss: 0.12984786927700043\n",
      "Epoch: 36, Loss: 0.22086738049983978\n",
      "Epoch: 37, Loss: 0.18389548361301422\n",
      "Epoch: 38, Loss: 0.1471828669309616\n",
      "Epoch: 39, Loss: 0.0658193975687027\n",
      "Epoch: 40, Loss: 0.16718946397304535\n",
      "Epoch: 41, Loss: 0.10895363986492157\n",
      "Epoch: 42, Loss: 0.1014706939458847\n",
      "Epoch: 43, Loss: 0.17072156071662903\n",
      "Epoch: 44, Loss: 0.19477859139442444\n",
      "Epoch: 45, Loss: 0.10118971765041351\n",
      "Epoch: 46, Loss: 0.07290047407150269\n",
      "Epoch: 47, Loss: 0.0800400972366333\n",
      "Epoch: 48, Loss: 0.049822013825178146\n",
      "Epoch: 49, Loss: 0.1285448670387268\n",
      "Epoch: 50, Loss: 0.0572759211063385\n",
      "Epoch: 51, Loss: 0.061926309019327164\n",
      "Epoch: 52, Loss: 0.13184332847595215\n",
      "Epoch: 53, Loss: 0.07793376594781876\n",
      "Epoch: 54, Loss: 0.05848990008234978\n",
      "Epoch: 55, Loss: 0.033857185393571854\n",
      "Epoch: 56, Loss: 0.14310579001903534\n",
      "Epoch: 57, Loss: 0.07796145230531693\n",
      "Epoch: 58, Loss: 0.03718651458621025\n",
      "Epoch: 59, Loss: 0.04514247179031372\n",
      "Epoch: 60, Loss: 0.0521017350256443\n",
      "Epoch: 61, Loss: 0.045771874487400055\n",
      "Epoch: 62, Loss: 0.04536500573158264\n",
      "Epoch: 63, Loss: 0.09326392412185669\n",
      "Epoch: 64, Loss: 0.05960790812969208\n",
      "Epoch: 65, Loss: 0.03100479394197464\n",
      "Epoch: 66, Loss: 0.05012236908078194\n",
      "Epoch: 67, Loss: 0.06405744701623917\n",
      "Epoch: 68, Loss: 0.019320815801620483\n",
      "Epoch: 69, Loss: 0.023396557196974754\n",
      "Epoch: 70, Loss: 0.05266650393605232\n",
      "Epoch: 71, Loss: 0.05670236051082611\n",
      "Epoch: 72, Loss: 0.05003298819065094\n",
      "Epoch: 73, Loss: 0.006813135929405689\n",
      "Epoch: 74, Loss: 0.024147534742951393\n",
      "Epoch: 75, Loss: 0.022083327174186707\n",
      "Epoch: 76, Loss: 0.019744448363780975\n",
      "Epoch: 77, Loss: 0.012790205888450146\n",
      "Epoch: 78, Loss: 0.0064744665287435055\n",
      "Epoch: 79, Loss: 0.05186357721686363\n",
      "Epoch: 80, Loss: 0.019758306443691254\n",
      "Epoch: 81, Loss: 0.07990676164627075\n",
      "Epoch: 82, Loss: 0.019360879436135292\n",
      "Epoch: 83, Loss: 0.02527010440826416\n",
      "Epoch: 84, Loss: 0.026254398748278618\n",
      "Epoch: 85, Loss: 0.04338978976011276\n",
      "Epoch: 86, Loss: 0.004478744231164455\n",
      "Epoch: 87, Loss: 0.005016452167183161\n",
      "Epoch: 88, Loss: 0.009721399284899235\n",
      "Epoch: 89, Loss: 0.02365083433687687\n",
      "Epoch: 90, Loss: 0.012609305791556835\n",
      "Epoch: 91, Loss: 0.035370148718357086\n",
      "Epoch: 92, Loss: 0.01558475848287344\n",
      "Epoch: 93, Loss: 0.010696056298911572\n",
      "Epoch: 94, Loss: 0.0349452868103981\n",
      "Epoch: 95, Loss: 0.02359236776828766\n",
      "Epoch: 96, Loss: 0.013416353613138199\n",
      "Epoch: 97, Loss: 0.013688325881958008\n",
      "Epoch: 98, Loss: 0.011478268541395664\n",
      "Epoch: 99, Loss: 0.04225252941250801\n",
      "Epoch: 100, Loss: 0.006068466231226921\n",
      "Spend time 0h3m20s\n"
     ]
    }
   ],
   "source": [
    "import torch\n",
    "import torch.nn as nn\n",
    "import torch.optim as optim\n",
    "import time\n",
    "tic = time.time()\n",
    "\n",
    "train_loader = torch.utils.data.DataLoader(cifar2, batch_size=64, shuffle=True)\n",
    "\n",
    "model = nn.Sequential(\n",
    "            nn.Linear(3072, 512),\n",
    "            nn.Tanh(),\n",
    "            nn.Linear(512, 2),\n",
    "            nn.LogSoftmax(dim=1))\n",
    "\n",
    "learning_rate = 1e-2\n",
    "\n",
    "optimizer = optim.SGD(model.parameters(), lr=learning_rate)\n",
    "\n",
    "loss_fn = nn.NLLLoss()\n",
    "\n",
    "n_epochs = 100\n",
    "\n",
    "for epoch in range(n_epochs):\n",
    "    for imgs, labels in train_loader:\n",
    "        batch_size = imgs.shape[0]\n",
    "        outputs = model(imgs.view(batch_size, -1))\n",
    "        loss = loss_fn(outputs, labels)\n",
    "        \n",
    "        optimizer.zero_grad()\n",
    "        loss.backward()\n",
    "        optimizer.step()\n",
    "        \n",
    "    print('Epoch: {}, Loss: {}'.format(epoch+1, float(loss)))\n",
    "    \n",
    "toc = time.time()\n",
    "delta_time = toc - tic\n",
    "print('Spend time ' + str(int(delta_time / 3600)) + 'h' + \n",
    "      str(int(delta_time / 60 % 60)) + 'm' + str(int(delta_time % 60)) + 's')"
   ]
  },
  {
   "cell_type": "code",
   "execution_count": 28,
   "metadata": {},
   "outputs": [
    {
     "name": "stdout",
     "output_type": "stream",
     "text": [
      "Accuracy: 0.815\n"
     ]
    }
   ],
   "source": [
    "val_loader = torch.utils.data.DataLoader(cifar2_val, batch_size=64, shuffle=False)\n",
    "\n",
    "correct = 0\n",
    "total = 0\n",
    "\n",
    "with torch.no_grad():\n",
    "    for imgs, labels in val_loader:\n",
    "        batch_size = imgs.shape[0]\n",
    "        outputs = model(imgs.view(batch_size, -1))\n",
    "        _, predicted = torch.max(outputs, dim=1)\n",
    "        total += labels.shape[0]\n",
    "        correct += int((predicted == labels).sum())\n",
    "    \n",
    "print('Accuracy: {}'.format(correct / total))"
   ]
  },
  {
   "cell_type": "code",
   "execution_count": 33,
   "metadata": {},
   "outputs": [],
   "source": [
    "model = nn.Sequential(\n",
    "            nn.Linear(3072, 1024),\n",
    "            nn.Tanh(),\n",
    "            nn.Linear(1024, 512),\n",
    "            nn.Tanh(),\n",
    "            nn.Linear(512, 128),\n",
    "            nn.Tanh(),\n",
    "            nn.Linear(128, 2))\n",
    "\n",
    "loss_fn = nn.CrossEntropyLoss()  # combination of nn.LogSoftmax and nn.NLLLoss"
   ]
  },
  {
   "cell_type": "code",
   "execution_count": 31,
   "metadata": {},
   "outputs": [
    {
     "data": {
      "text/plain": [
       "(3737474, [3145728, 1024, 524288, 512, 65536, 128, 256, 2])"
      ]
     },
     "execution_count": 31,
     "metadata": {},
     "output_type": "execute_result"
    }
   ],
   "source": [
    "numel_list = [p.numel() for p in model.parameters() if p.requires_grad == True]\n",
    "sum(numel_list), numel_list"
   ]
  },
  {
   "cell_type": "markdown",
   "metadata": {},
   "source": [
    "$\n",
    "p.numel() = (N_{weight}\\times N_{bias}, N_{bias})\n",
    "$"
   ]
  },
  {
   "cell_type": "code",
   "execution_count": 34,
   "metadata": {},
   "outputs": [
    {
     "data": {
      "text/plain": [
       "(1574402, [1572864, 512, 1024, 2])"
      ]
     },
     "execution_count": 34,
     "metadata": {},
     "output_type": "execute_result"
    }
   ],
   "source": [
    "model = nn.Sequential(\n",
    "            nn.Linear(\n",
    "                3072,\n",
    "                512,\n",
    "            ),\n",
    "            nn.Tanh(),\n",
    "            nn.Linear(\n",
    "                512,\n",
    "                n_out,\n",
    "            )\n",
    "        )\n",
    "\n",
    "numel_list = [p.numel() for p in model.parameters() if p.requires_grad == True]\n",
    "sum(numel_list), numel_list"
   ]
  },
  {
   "cell_type": "code",
   "execution_count": 35,
   "metadata": {},
   "outputs": [
    {
     "data": {
      "text/plain": [
       "(torch.Size([1024, 3072]), torch.Size([1024]))"
      ]
     },
     "execution_count": 35,
     "metadata": {},
     "output_type": "execute_result"
    }
   ],
   "source": [
    "linear = nn.Linear(3072, 1024)\n",
    "\n",
    "linear.weight.shape, linear.bias.shape"
   ]
  },
  {
   "cell_type": "code",
   "execution_count": null,
   "metadata": {},
   "outputs": [],
   "source": []
  }
 ],
 "metadata": {
  "author": "mes",
  "kernelspec": {
   "display_name": "Python 3",
   "language": "python",
   "name": "python3"
  },
  "language_info": {
   "codemirror_mode": {
    "name": "ipython",
    "version": 3
   },
   "file_extension": ".py",
   "mimetype": "text/x-python",
   "name": "python",
   "nbconvert_exporter": "python",
   "pygments_lexer": "ipython3",
   "version": "3.7.4"
  },
  "latex_envs": {
   "LaTeX_envs_menu_present": true,
   "autoclose": false,
   "autocomplete": true,
   "bibliofile": "biblio.bib",
   "cite_by": "apalike",
   "current_citInitial": 1,
   "eqLabelWithNumbers": true,
   "eqNumInitial": 1,
   "hotkeys": {
    "equation": "Ctrl-E",
    "itemize": "Ctrl-I"
   },
   "labels_anchors": false,
   "latex_user_defs": false,
   "report_style_numbering": false,
   "user_envs_cfg": false
  }
 },
 "nbformat": 4,
 "nbformat_minor": 2
}
