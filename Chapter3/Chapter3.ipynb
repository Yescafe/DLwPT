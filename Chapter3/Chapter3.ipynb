{
 "cells": [
  {
   "cell_type": "code",
   "execution_count": 1,
   "metadata": {},
   "outputs": [
    {
     "name": "stdout",
     "output_type": "stream",
     "text": [
      "tensor([1., 1., 1.])\n",
      "tensor(1.)\n",
      "1.0\n"
     ]
    }
   ],
   "source": [
    "import torch\n",
    "a = torch.ones(3)  # default dtype=torch.float\n",
    "print(a)\n",
    "\n",
    "# the min unit of a tensor is a tensor\n",
    "print(a[1])\n",
    "print(float(a[1]))"
   ]
  },
  {
   "cell_type": "code",
   "execution_count": 2,
   "metadata": {},
   "outputs": [
    {
     "data": {
      "text/plain": [
       "torch.Size([3, 2])"
      ]
     },
     "execution_count": 2,
     "metadata": {},
     "output_type": "execute_result"
    }
   ],
   "source": [
    "torch.zeros(3, 2).shape"
   ]
  },
  {
   "cell_type": "code",
   "execution_count": 3,
   "metadata": {},
   "outputs": [
    {
     "name": "stdout",
     "output_type": "stream",
     "text": [
      " 0.4941365122795105\n",
      " 0.6145930290222168\n",
      " 0.7663203477859497\n",
      " 0.4274972081184387\n",
      " 0.5633124113082886\n",
      " 0.7500499486923218\n",
      "[torch.FloatStorage of size 6]\n",
      "0.6145930290222168\n"
     ]
    }
   ],
   "source": [
    "rand3_2 = torch.rand(3, 2)\n",
    "print(rand3_2.storage(), \n",
    "      rand3_2.storage()[1], sep='\\n')"
   ]
  },
  {
   "cell_type": "code",
   "execution_count": 4,
   "metadata": {},
   "outputs": [
    {
     "name": "stdout",
     "output_type": "stream",
     "text": [
      "tensor([[4., 1.],\n",
      "        [5., 3.],\n",
      "        [2., 1.]])\n",
      "tensor([[4., 5., 2.],\n",
      "        [1., 3., 1.]])\n"
     ]
    },
    {
     "data": {
      "text/plain": [
       "True"
      ]
     },
     "execution_count": 4,
     "metadata": {},
     "output_type": "execute_result"
    }
   ],
   "source": [
    "points = torch.tensor([[4.0, 1.0], [5.0, 3.0], [2.0, 1.0]])\n",
    "print(points)\n",
    "points_t = points.t()   # transpose\n",
    "print(points_t)\n",
    "id(points.storage()) == id(points_t.storage())"
   ]
  },
  {
   "cell_type": "code",
   "execution_count": 5,
   "metadata": {},
   "outputs": [
    {
     "data": {
      "text/plain": [
       "array([[1., 1., 1.],\n",
       "       [1., 1., 1.],\n",
       "       [1., 1., 1.],\n",
       "       [1., 1., 1.]], dtype=float32)"
      ]
     },
     "execution_count": 5,
     "metadata": {},
     "output_type": "execute_result"
    }
   ],
   "source": [
    "# PyTorch tensors can be converted to NumPy arrays\n",
    "points = torch.ones(4, 3)\n",
    "points_np = points.numpy()\n",
    "points_np"
   ]
  },
  {
   "cell_type": "code",
   "execution_count": 6,
   "metadata": {},
   "outputs": [
    {
     "data": {
      "text/plain": [
       "tensor([3, 2, 1], dtype=torch.int32)"
      ]
     },
     "execution_count": 6,
     "metadata": {},
     "output_type": "execute_result"
    }
   ],
   "source": [
    "# vice versa\n",
    "import numpy as np\n",
    "arr_np = np.array([3, 2, 1])\n",
    "arr = torch.from_numpy(arr_np)\n",
    "arr"
   ]
  },
  {
   "cell_type": "code",
   "execution_count": 7,
   "metadata": {},
   "outputs": [
    {
     "name": "stdout",
     "output_type": "stream",
     "text": [
      "tensor([[1., 1., 1.],\n",
      "        [1., 1., 1.],\n",
      "        [1., 1., 1.],\n",
      "        [1., 1., 1.]])\n",
      "tensor([[1., 1., 1.],\n",
      "        [1., 1., 1.],\n",
      "        [1., 1., 1.],\n",
      "        [1., 1., 1.]])\n"
     ]
    }
   ],
   "source": [
    "# Serializing tensor\n",
    "print(points)\n",
    "filename = \"../data/ch3/points.t\"\n",
    "\n",
    "# torch.save(points, filename)\n",
    "with open(filename, \"wb\") as f:\n",
    "    torch.save(points, f)\n",
    "\n",
    "# Deserializing\n",
    "# points = torch.load(filename)\n",
    "with open(filename, \"rb\") as f:\n",
    "    points = torch.load(f)\n",
    "\n",
    "print(points)"
   ]
  },
  {
   "cell_type": "code",
   "execution_count": 18,
   "metadata": {},
   "outputs": [
    {
     "name": "stdout",
     "output_type": "stream",
     "text": [
      "tensor([[1., 1., 1.],\n",
      "        [1., 1., 1.]])\n"
     ]
    }
   ],
   "source": [
    "# $ conda install h5py\n",
    "import h5py\n",
    "\n",
    "with h5py.File(\"../data/ch3/points.hdf5\", \"w\") as f:\n",
    "    dset = f.create_dataset(\"coords\", data=points.numpy())\n",
    "\n",
    "with h5py.File(\"../data/ch3/points.hdf5\", \"r\") as f:\n",
    "    dset = f['coords']\n",
    "    last_points = torch.from_numpy(dset[-2:])\n",
    "print(last_points)"
   ]
  },
  {
   "cell_type": "code",
   "execution_count": 21,
   "metadata": {},
   "outputs": [
    {
     "data": {
      "text/plain": [
       "\"\\npoints_gpu = torch.tensor([[4.0, 1.0], [5.0, 3.0], [2.0, 1.0]], device='cuda')\\n\\npoints_gpu = points.to(device='cuda')\\n\\npoints_gpu = points.cuda()\\n\""
      ]
     },
     "execution_count": 21,
     "metadata": {},
     "output_type": "execute_result"
    }
   ],
   "source": [
    "# Moving tensors to the GPU\n",
    "\n",
    "'''\n",
    "points_gpu = torch.tensor([[4.0, 1.0], [5.0, 3.0], [2.0, 1.0]], device='cuda')\n",
    "\n",
    "points_gpu = points.to(device='cuda')\n",
    "\n",
    "points_gpu = points.cuda()\n",
    "'''\n",
    "\n",
    "# ran on Google Colab"
   ]
  },
  {
   "cell_type": "code",
   "execution_count": null,
   "metadata": {},
   "outputs": [],
   "source": []
  }
 ],
 "metadata": {
  "kernelspec": {
   "display_name": "Python 3",
   "language": "python",
   "name": "python3"
  },
  "language_info": {
   "codemirror_mode": {
    "name": "ipython",
    "version": 3
   },
   "file_extension": ".py",
   "mimetype": "text/x-python",
   "name": "python",
   "nbconvert_exporter": "python",
   "pygments_lexer": "ipython3",
   "version": "3.7.4"
  }
 },
 "nbformat": 4,
 "nbformat_minor": 2
}
